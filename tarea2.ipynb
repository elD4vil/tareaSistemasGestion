{
 "cells": [
  {
   "cell_type": "code",
   "execution_count": null,
   "id": "a9120a20",
   "metadata": {},
   "outputs": [],
   "source": [
    "import pandas as pd\n",
    "\n",
    "# Asegúrate de usar el separador correcto (;)\n",
    "df = pd.read_csv(\"20250212_Rendimiento_2024_20250131_WEB.csv\", sep=\";\", low_memory=False)\n",
    "\n",
    "# Verificar columnas y primeras filas\n",
    "print(df.shape)\n",
    "df.head()\n"
   ]
  }
 ],
 "metadata": {
  "kernelspec": {
   "display_name": "Python 3",
   "language": "python",
   "name": "python3"
  },
  "language_info": {
   "name": "python",
   "version": "3.12.3"
  }
 },
 "nbformat": 4,
 "nbformat_minor": 5
}
