{
 "cells": [
  {
   "cell_type": "code",
   "execution_count": 19,
   "id": "e0363130",
   "metadata": {},
   "outputs": [],
   "source": [
    "import pandas as pd\n",
    "from sqlalchemy import create_engine, Table, Column, Integer, String, Float, MetaData, ForeignKey, DECIMAL\n",
    "# Carga tu CSV\n",
    "metadata = MetaData()\n",
    "\n",
    "# Crea la conexión a MySQL\n",
    "usuario = \"root\"\n",
    "contraseña = \"trolldesu2\"\n",
    "host = \"localhost\"\n",
    "puerto = \"3306\"\n",
    "base_datos = \"mineduc\"\n",
    "\n",
    "# Usa pymysql o mysqlclient según lo que instalaste\n",
    "engine = create_engine(f\"mysql+pymysql://{usuario}:{contraseña}@{host}:{puerto}/{base_datos}\")\n"
   ]
  },
  {
   "cell_type": "code",
   "execution_count": 20,
   "id": "d3332366",
   "metadata": {},
   "outputs": [],
   "source": [
    "datos_egreso = Table('datos_egreso', metadata,\n",
    "    Column('AGNO', Integer),\n",
    "    Column('RBD', Integer),\n",
    "    Column('DGV_RBD', Integer),\n",
    "    Column('COD_REG_RBD', Integer),\n",
    "    Column('NOM_REG_RBD_A', String(100)),\n",
    "    Column('COD_PRO_RBD', Integer),\n",
    "    Column('COD_COM_RBD', Integer),\n",
    "    Column('NOM_COM_RBD', String(100)),\n",
    "    Column('COD_DEPROV_RBD', Integer),\n",
    "    Column('NOM_DEPROV_RBD', String(100)),\n",
    "    Column('COD_ENSE', Integer),\n",
    "    Column('COD_GRADO', Integer),\n",
    "    Column('COD_DEPE', Integer),\n",
    "    Column('COD_DEPE2', Integer),\n",
    "    Column('RURAL_RBD', Integer),\n",
    "    Column('MRUN', String(20)),\n",
    "    Column('MRUN_IPE', String(20)),\n",
    "    Column('PROM_NOTAS_ALU', DECIMAL(4, 2)),\n",
    "    Column('ORIGEN', String(50)),\n",
    "    Column('ENSE_COMPLETA', Integer),\n",
    "    Column('MARCA_EGRESO', Integer)\n",
    ")\n"
   ]
  },
  {
   "cell_type": "code",
   "execution_count": 21,
   "id": "ec425006",
   "metadata": {},
   "outputs": [],
   "source": [
    "dim_alumno = Table('dim_alumno', metadata,\n",
    "    Column('id_alumno', Integer, primary_key=True, autoincrement=True),\n",
    "    Column('MRUN', String(20), unique=True),\n",
    "    Column('GEN_ALU', Integer),\n",
    "    Column('FEC_NAC_ALU', String(10)),\n",
    "    Column('EDAD_ALU', Integer)\n",
    ")\n",
    "\n",
    "dim_establecimiento = Table('dim_establecimiento', metadata,\n",
    "    Column('id_establecimiento', Integer, primary_key=True, autoincrement=True),\n",
    "    Column('RBD', Integer),\n",
    "    Column('NOM_COM_RBD', String(100)),\n",
    "    Column('COD_DEPE2', Integer),\n",
    "    Column('RURAL_RBD', Integer)\n",
    ")\n",
    "\n",
    "dim_curso = Table('dim_curso', metadata,\n",
    "    Column('id_curso', Integer, primary_key=True, autoincrement=True),\n",
    "    Column('COD_ENSE', Integer),\n",
    "    Column('COD_GRADO', Integer),\n",
    "    Column('LET_CUR', String(5)),\n",
    "    Column('COD_JOR', Integer)\n",
    ")\n",
    "\n",
    "dim_tiempo = Table('dim_tiempo', metadata,\n",
    "    Column('id_tiempo', Integer, primary_key=True, autoincrement=True),\n",
    "    Column('AGNO', Integer)\n",
    ")\n",
    "\n",
    "dim_estado_final = Table('dim_estado_final', metadata,\n",
    "    Column('id_estado', Integer, primary_key=True, autoincrement=True),\n",
    "    Column('SIT_FIN', String(5)),\n",
    "    Column('SIT_FIN_R', String(5))\n",
    ")"
   ]
  },
  {
   "cell_type": "code",
   "execution_count": 22,
   "id": "da139807",
   "metadata": {},
   "outputs": [],
   "source": [
    "hechos_egreso = Table('hechos_egreso', metadata,\n",
    "    Column('id_hecho', Integer, primary_key=True, autoincrement=True),\n",
    "    Column('id_alumno', Integer, ForeignKey('dim_alumno.id_alumno')),\n",
    "    Column('id_establecimiento', Integer, ForeignKey('dim_establecimiento.id_establecimiento')),\n",
    "    Column('id_curso', Integer, ForeignKey('dim_curso.id_curso')),\n",
    "    Column('id_tiempo', Integer, ForeignKey('dim_tiempo.id_tiempo')),\n",
    "    Column('id_estado', Integer, ForeignKey('dim_estado_final.id_estado')),\n",
    "    Column('ENSE_COMPLETA', Integer),\n",
    "    Column('MARCA_EGRESO', Integer),\n",
    "    Column('PROM_NOTAS_ALU', DECIMAL(4, 2))\n",
    ")\n"
   ]
  },
  {
   "cell_type": "code",
   "execution_count": 23,
   "id": "b4cd8e70",
   "metadata": {},
   "outputs": [],
   "source": [
    "metadata.drop_all(engine)\n",
    "metadata.create_all(engine)"
   ]
  },
  {
   "cell_type": "code",
   "execution_count": 24,
   "id": "a189a2bc",
   "metadata": {},
   "outputs": [],
   "source": [
    "csv_path = 'C:/ProgramData/MySQL/MySQL Server 8.0/Uploads/20230313_Notas_y_Egresados_Enseñanza_Media_2024_PUBL.csv'\n",
    "df = pd.read_csv(csv_path, sep=';', dtype=str).fillna('')"
   ]
  },
  {
   "cell_type": "code",
   "execution_count": 25,
   "id": "755f59c0",
   "metadata": {},
   "outputs": [],
   "source": [
    "int_cols = ['AGNO', 'RBD', 'DGV_RBD', 'COD_REG_RBD', 'COD_PRO_RBD', 'COD_COM_RBD',\n",
    "            'COD_DEPROV_RBD', 'COD_ENSE', 'COD_GRADO', 'COD_DEPE', 'COD_DEPE2',\n",
    "            'RURAL_RBD', 'ENSE_COMPLETA', 'MARCA_EGRESO']\n",
    "\n",
    "float_cols = ['PROM_NOTAS_ALU']\n",
    "\n",
    "for col in int_cols:\n",
    "    df[col] = pd.to_numeric(df[col], errors='coerce')\n",
    "\n",
    "for col in float_cols:\n",
    "    df[col] = pd.to_numeric(df[col], errors='coerce')"
   ]
  },
  {
   "cell_type": "code",
   "execution_count": null,
   "id": "e5ef92af",
   "metadata": {},
   "outputs": [
    {
     "data": {
      "text/plain": [
       "274669"
      ]
     },
     "execution_count": 18,
     "metadata": {},
     "output_type": "execute_result"
    }
   ],
   "source": [
    "hechos_egreso.to_sql('hechos_egresados', con=engine, if_exists='append', index=False)"
   ]
  }
 ],
 "metadata": {
  "kernelspec": {
   "display_name": "Python 3",
   "language": "python",
   "name": "python3"
  },
  "language_info": {
   "codemirror_mode": {
    "name": "ipython",
    "version": 3
   },
   "file_extension": ".py",
   "mimetype": "text/x-python",
   "name": "python",
   "nbconvert_exporter": "python",
   "pygments_lexer": "ipython3",
   "version": "3.10.16"
  }
 },
 "nbformat": 4,
 "nbformat_minor": 5
}
